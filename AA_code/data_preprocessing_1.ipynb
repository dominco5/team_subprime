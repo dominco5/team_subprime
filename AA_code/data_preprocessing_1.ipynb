{
 "cells": [
  {
   "cell_type": "code",
   "execution_count": 1,
   "metadata": {},
   "outputs": [],
   "source": [
    "#Dependencies\n",
    "import pandas as pd\n",
    "from pathlib import Path\n",
    "import json"
   ]
  },
  {
   "cell_type": "code",
   "execution_count": 4,
   "metadata": {},
   "outputs": [],
   "source": [
    "#Create and read file path\n",
    "\n",
    "housing_data_to_load = Path(\"Resources/CA_housing_prices.csv\")\n",
    "housing_data = pd.read_csv(housing_data_to_load)\n",
    "\n",
    "gdp_data_to_load = Path(\"Resources/GDP.csv\")\n",
    "gdp_data = pd.read_csv(gdp_data_to_load)\n",
    "\n",
    "interest_data_to_load = Path(\"Resources/FEDFUNDS.csv\")\n",
    "interest_data = pd.read_csv(interest_data_to_load)\n",
    "\n",
    "unemployment_data_to_load = Path(\"Resources/UNRATE.csv\")\n",
    "unemployment_data = pd.read_csv(unemployment_data_to_load)"
   ]
  },
  {
   "cell_type": "code",
   "execution_count": 5,
   "metadata": {},
   "outputs": [],
   "source": [
    "housing_merged_df = housing_data.merge(gdp_data, on='Date', how='outer').merge(interest_data, on='Date', how='outer').merge(unemployment_data, on='Date', how='outer')\n",
    "housing_merged_df = housing_merged_df.dropna() "
   ]
  },
  {
   "cell_type": "code",
   "execution_count": 6,
   "metadata": {},
   "outputs": [],
   "source": [
    "import json\n",
    "\n",
    "# Initialize a dictionary to hold the JSON data\n",
    "pricing_data = {}\n",
    "\n",
    "# Iterate over the columns in your DataFrame (excluding 'Date')\n",
    "for column in housing_merged_df.columns[1:]:\n",
    "    date_value_dict = {}\n",
    "    \n",
    "    # Iterate over rows to extract date-value pairs\n",
    "    for index, row in housing_merged_df.iterrows():\n",
    "        date = row['Date']\n",
    "        value = row[column]\n",
    "        date_value_dict[date] = value\n",
    "    \n",
    "    # Add the date-value dictionary to the JSON data with the column name as the key\n",
    "    pricing_data[column] = date_value_dict\n",
    "\n",
    "# Define the name of the JSON file\n",
    "pricing_json_file_name = 'Resources/pricing_data.json'\n",
    "\n",
    "# Open the file in write mode and write the JSON data to it\n",
    "with open(pricing_json_file_name, 'w') as json_file:\n",
    "    json.dump(pricing_data, json_file, indent=4)"
   ]
  },
  {
   "cell_type": "code",
   "execution_count": null,
   "metadata": {},
   "outputs": [],
   "source": []
  }
 ],
 "metadata": {
  "kernelspec": {
   "display_name": "dev",
   "language": "python",
   "name": "python3"
  },
  "language_info": {
   "codemirror_mode": {
    "name": "ipython",
    "version": 3
   },
   "file_extension": ".py",
   "mimetype": "text/x-python",
   "name": "python",
   "nbconvert_exporter": "python",
   "pygments_lexer": "ipython3",
   "version": "3.10.12"
  },
  "orig_nbformat": 4
 },
 "nbformat": 4,
 "nbformat_minor": 2
}
